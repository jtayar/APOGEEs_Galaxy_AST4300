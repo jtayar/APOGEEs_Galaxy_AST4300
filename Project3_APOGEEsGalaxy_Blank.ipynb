{
 "cells": [
  {
   "cell_type": "markdown",
   "id": "99c91b4b",
   "metadata": {},
   "source": [
    "# APOGEE's Galaxy"
   ]
  },
  {
   "cell_type": "markdown",
   "id": "773b1449",
   "metadata": {},
   "source": [
    "## Section 1- Introduction"
   ]
  },
  {
   "cell_type": "markdown",
   "id": "b18fd618",
   "metadata": {},
   "source": [
    "In this notebook, you're going to explore the Milky Way galaxy as probed by the most recently published APOGEE dataset (APOGEE DR17). This notebook was developed by referencing notebooks by Danny Horta, Emily Griffith, and Henry Leung, and Ted Mackereth. "
   ]
  },
  {
   "cell_type": "markdown",
   "id": "0f1b5b5c",
   "metadata": {},
   "source": [
    "You can read more about that dataset at: https://www.sdss4.org/dr17/irspec/ or in papers like https://ui.adsabs.harvard.edu/abs/2022ApJS..259...35A/abstract or https://ui.adsabs.harvard.edu/abs/2020AJ....160..120J/abstract"
   ]
  },
  {
   "cell_type": "markdown",
   "id": "72440adb",
   "metadata": {},
   "source": [
    "Step 1: Download the dataset from https://data.sdss.org/sas/dr17/apogee/spectro/aspcap/dr17/synspec_rev1/allStarLite-dr17-synspec_rev1.fits  (It's about 1.7 GBs)"
   ]
  },
  {
   "cell_type": "markdown",
   "id": "cfc7caf0",
   "metadata": {},
   "source": [
    "__Question:__ What is the resolution of the APOGEE spectra? What wavelength range do they cover?"
   ]
  },
  {
   "cell_type": "markdown",
   "id": "bb96250c",
   "metadata": {},
   "source": [
    "__Answer:__ "
   ]
  },
  {
   "cell_type": "markdown",
   "id": "d6650adc",
   "metadata": {},
   "source": [
    "__Question:__ Describe in a few sentences what has happend to these data before they were put in this file (how were they taken, how were they processed, how were these parameters computed, were any changes or corrections applied, etc.)"
   ]
  },
  {
   "cell_type": "markdown",
   "id": "8d4925c5",
   "metadata": {},
   "source": [
    "__Answer:__"
   ]
  },
  {
   "cell_type": "markdown",
   "id": "c2858791",
   "metadata": {},
   "source": [
    "## Section 2- Initial Exploration"
   ]
  },
  {
   "cell_type": "code",
   "execution_count": null,
   "id": "965d11e7",
   "metadata": {},
   "outputs": [],
   "source": [
    "#pip install astropy\n",
    "#pip install --upgrade numpy"
   ]
  },
  {
   "cell_type": "code",
   "execution_count": null,
   "id": "476e4293",
   "metadata": {},
   "outputs": [],
   "source": [
    "#Import some things\n",
    "import numpy as np\n",
    "import matplotlib.pyplot as plt\n",
    "from matplotlib.colors import LogNorm\n",
    "import astropy.coordinates as coord\n",
    "import astropy.units as u\n",
    "from astropy.io import fits\n",
    "from astropy.table import Table\n",
    "from astropy.coordinates import SkyCoord\n"
   ]
  },
  {
   "cell_type": "code",
   "execution_count": null,
   "id": "21dac639",
   "metadata": {},
   "outputs": [],
   "source": [
    "#load in the data (may have to change this for wherever you downloaded your file)\n",
    "#in google colab you can get the file using\n",
    "#!wget https://data.sdss.org/sas/dr17/apogee/spectro/aspcap/dr17/synspec_rev1/allStarLite-dr17-synspec_rev1.fits \n",
    "\n",
    "filename='allStarLite-dr17-synspec_rev1.fits'\n",
    "tb = fits.open(filename)\n",
    "header=tb[1].header\n",
    "data = tb[1].data \n"
   ]
  },
  {
   "cell_type": "markdown",
   "id": "fcdb37d0",
   "metadata": {},
   "source": [
    "__Question:__ How many stars are in this dataset?"
   ]
  },
  {
   "cell_type": "code",
   "execution_count": null,
   "id": "8bdd0a73",
   "metadata": {},
   "outputs": [],
   "source": [
    "#Answer:\n",
    "print('Answer: There are '+str(len(data))+' targets in DR17')"
   ]
  },
  {
   "cell_type": "markdown",
   "id": "0d05a5b6",
   "metadata": {},
   "source": [
    "To figure out what sort of data is included in this table, you can look at the datamodel: https://data.sdss.org/datamodel/files/APOGEE_ASPCAP/APRED_VERS/ASPCAP_VERS/allStarLite.html or print the header"
   ]
  },
  {
   "cell_type": "code",
   "execution_count": null,
   "id": "28e6691a",
   "metadata": {},
   "outputs": [],
   "source": [
    "print(header)"
   ]
  },
  {
   "cell_type": "markdown",
   "id": "969035d0",
   "metadata": {},
   "source": [
    "Let's figure out what type of stars these are- let's plot an HR diagram (well, really a Kiel Diagram- temperature and logg)"
   ]
  },
  {
   "cell_type": "code",
   "execution_count": null,
   "id": "e156a5bb",
   "metadata": {},
   "outputs": [],
   "source": [
    "plt.figure()\n",
    "plt.scatter(data['TEFF'], data['LOGG'])\n"
   ]
  },
  {
   "cell_type": "markdown",
   "id": "21ba804e",
   "metadata": {},
   "source": [
    "__Question:__ There are several issues with this plot, list at least three of them"
   ]
  },
  {
   "cell_type": "markdown",
   "id": "04e2abf7",
   "metadata": {},
   "source": [
    "__Answer:__ "
   ]
  },
  {
   "cell_type": "markdown",
   "id": "46a7cc63",
   "metadata": {},
   "source": [
    "Okay, let's make a more useful plot"
   ]
  },
  {
   "cell_type": "code",
   "execution_count": null,
   "id": "616e82cf",
   "metadata": {},
   "outputs": [],
   "source": [
    "#plot stuff\n",
    "plt.figure()\n",
    "plt.scatter(data['TEFF'], data['LOGG'],c=data['M_H'],vmin=-1.5,vmax=0.5,s=0.1)\n",
    "plt.xlabel('Teff [K]')\n",
    "plt.ylabel('Logg [dex]')\n",
    "plt.colorbar(label='[M/H]')\n",
    "plt.xlim(7000,3000)\n",
    "plt.ylim(6,-1)"
   ]
  },
  {
   "cell_type": "markdown",
   "id": "98f6d32f",
   "metadata": {},
   "source": [
    "__Question:__ Describe the types of stars present on this plot: what evolutionary phases are they in? What mass ranges do you expect them to cover? How does the distribution in this sample compare to the distribution of stars in the field?"
   ]
  },
  {
   "cell_type": "markdown",
   "id": "c3bc1c1b",
   "metadata": {},
   "source": [
    "__Answer:__"
   ]
  },
  {
   "cell_type": "markdown",
   "id": "45db22c3",
   "metadata": {},
   "source": [
    "__Question:__ Plot the RAs and Decs of these stars. What parts of the sky do they come from? Describe at least two features of the selection pattern, and explain how they might have arisen. (If you get stuck, the selection functions are explained in https://ui.adsabs.harvard.edu/abs/2017AJ....154..198Z/abstract, https://ui.adsabs.harvard.edu/abs/2021AJ....162..302B/abstract , and https://ui.adsabs.harvard.edu/abs/2021AJ....162..303S/abstract )\n"
   ]
  },
  {
   "cell_type": "code",
   "execution_count": null,
   "id": "270c6753",
   "metadata": {},
   "outputs": [],
   "source": [
    "# code to make a plot here"
   ]
  },
  {
   "cell_type": "markdown",
   "id": "8b352f61",
   "metadata": {},
   "source": [
    "__Answer:__"
   ]
  },
  {
   "cell_type": "markdown",
   "id": "b3b40565",
   "metadata": {},
   "source": [
    "__Question:__ The galaxy is often divided into an $\\alpha$-rich and an $\\alpha$-poor population. Plot the $\\alpha$/Metallicity versus Metallicity/H for this sample. Choose an appropriate scale and point size so that you can see the different components. Describe the populations in this data. "
   ]
  },
  {
   "cell_type": "code",
   "execution_count": null,
   "id": "b6b75932",
   "metadata": {},
   "outputs": [],
   "source": [
    "#code to make a plot here (the alpha column is called ALPHA_M)\n"
   ]
  },
  {
   "cell_type": "markdown",
   "id": "c3bd5639",
   "metadata": {},
   "source": [
    "__Answer:__"
   ]
  },
  {
   "cell_type": "markdown",
   "id": "91dd7ae2",
   "metadata": {},
   "source": [
    "## Section 3- Chemical Cartography"
   ]
  },
  {
   "cell_type": "markdown",
   "id": "b9716ebc",
   "metadata": {},
   "source": [
    "It's all well and good to see where these stars are in our sky, but what we really want to know is where they are located in the galaxy. It turns out we have enough data to calculate that for these stars. We have RA and Dec information, proper motions in RA and DEC (Gaia), and the radial velocity information from the APOGEE spectra."
   ]
  },
  {
   "cell_type": "code",
   "execution_count": null,
   "id": "c976df49",
   "metadata": {},
   "outputs": [],
   "source": [
    "# get rid of stars with negative distances\n",
    "mask_gaia = (data['GAIAEDR3_PARALLAX']>0)\n",
    "\n",
    "# use skycoord to input information\n",
    "c = SkyCoord(ra=data['RA'][mask_gaia]*u.deg, dec=data['DEC'][mask_gaia]*u.deg, \n",
    "             distance=(data['GAIAEDR3_R_MED_GEO'][mask_gaia])*u.kpc,\n",
    "             pm_ra_cosdec=data['GAIAEDR3_PMRA'][mask_gaia]*u.mas/u.yr, \n",
    "             pm_dec=data['GAIAEDR3_PMDEC'][mask_gaia]*u.mas/u.yr,\n",
    "            radial_velocity=data['RV_CCFWHM'][mask_gaia]*u.km/u.s) \n",
    "\n",
    "# transform to galactocentric coordinate\n",
    "# the assumed values are from Schonrich et al 2010, and from Gravity collab 2022\n",
    "galcen = c.transform_to(coord.Galactocentric(galcen_v_sun=[8, 254, 8] * u.km / u.s, galcen_distance=8.275 * u.kpc))\n",
    "\n"
   ]
  },
  {
   "cell_type": "code",
   "execution_count": null,
   "id": "9406a879",
   "metadata": {},
   "outputs": [],
   "source": [
    "# Extract the galactic coordinates and motions\n",
    "x = galcen.x.value\n",
    "y = galcen.y.value\n",
    "z = galcen.z.value\n",
    "\n",
    "vx = galcen.v_x.value\n",
    "vy = galcen.v_y.value\n",
    "vz = galcen.v_z.value\n",
    "\n",
    "#galactocentric radius (either in the disk-R or distance from the galactic center)\n",
    "R = np.sqrt(x**2+y**2)\n",
    "rgal = np.sqrt(x**2+y**2+z**2)"
   ]
  },
  {
   "cell_type": "code",
   "execution_count": null,
   "id": "7c90d9da",
   "metadata": {},
   "outputs": [],
   "source": [
    "#I clipped data table, including the the M/H and alpha/M vectors to the same length as the R and z information first before plotting\n",
    "data_masked=data[mask_gaia]"
   ]
  },
  {
   "cell_type": "markdown",
   "id": "f1aad589",
   "metadata": {},
   "source": [
    "__Question:__ Make a plot of the R (galactocentric radius) versus Z (height versus the plane of the galaxy), color coded by metallicity. What components of the galaxy are being probed? How is the metallicity correlated with position in the galaxy?"
   ]
  },
  {
   "cell_type": "code",
   "execution_count": null,
   "id": "a8c1867b",
   "metadata": {},
   "outputs": [],
   "source": [
    "# make a plot here of R and z. \n",
    "#Don't forget if you color code by something you have to use the \n",
    "#data_masked version to make sure all the arrays are the same length\n",
    "\n"
   ]
  },
  {
   "cell_type": "markdown",
   "id": "46da0f4a",
   "metadata": {},
   "source": [
    "__Answer:__"
   ]
  },
  {
   "cell_type": "markdown",
   "id": "d342ff22",
   "metadata": {},
   "source": [
    "__Question:__ How does the chemistry of stars vary with their position in the galaxy? Make a plot similar to Figure 4 of Hayden et al. 2015 (the last paper you read). How similar is your plot to theirs? How do they differ? Do you agree with their conclusions?"
   ]
  },
  {
   "cell_type": "code",
   "execution_count": null,
   "id": "efa769ce",
   "metadata": {},
   "outputs": [],
   "source": [
    "#code to make plots. \n",
    "\n",
    "#If you can get the 'subfigure' part working or do this in a loop that's great.\n",
    "#If you can't, you can make each plot individually\n",
    "#code bits that might be useful \n",
    "#fig, ax = plt.subplots()\n",
    "#bin1= np.where((R > 3000) & (R < 5000) & (abs(z)>2000) & (data_masked['ALPHA_M'] == data_masked['ALPHA_M']) & (data_masked['M_H']==data_masked['M_H']))\n",
    "#ax.hist2d(data_masked['M_H'][bin1], data_masked['ALPHA_M'][bin1], bins=100, cmap='bone_r')\n",
    "# don't forget to make sure you're using the right units for R & z"
   ]
  },
  {
   "cell_type": "markdown",
   "id": "81544198",
   "metadata": {},
   "source": [
    "__Answer:__"
   ]
  },
  {
   "cell_type": "markdown",
   "id": "100fc216",
   "metadata": {},
   "source": [
    "## Section 4- Adding Ages"
   ]
  },
  {
   "cell_type": "markdown",
   "id": "06ac1305",
   "metadata": {},
   "source": [
    "__Question:__ Your colleague claims to have calculated ages for a subset of the giant stars using asteroseismology and stellar models. Write a (~paragraph) description summarizing the steps they must have taken."
   ]
  },
  {
   "cell_type": "markdown",
   "id": "c36c1d75",
   "metadata": {},
   "source": [
    "__Answer:__"
   ]
  },
  {
   "cell_type": "markdown",
   "id": "19f999d7",
   "metadata": {},
   "source": [
    "__Question:__ List three questions you would need to ask about their analysis in order to understand the details of it better."
   ]
  },
  {
   "cell_type": "markdown",
   "id": "712ffb4e",
   "metadata": {},
   "source": [
    "__Answer:__"
   ]
  },
  {
   "cell_type": "code",
   "execution_count": null,
   "id": "f713d8c0",
   "metadata": {},
   "outputs": [],
   "source": [
    "#Read in file\n",
    "agefilename='APOKASC705_AGE_short.fits'\n",
    "agetb = fits.open(agefilename)\n",
    "ageheader=agetb[1].header[0:14]\n",
    "agedata = agetb[1].data \n",
    "#put the ages in an array\n",
    "ages=agedata['AGE_JT']\n",
    "apogeeidAge=agedata['APOGEE_ID']\n",
    "#print the header\n",
    "print(ageheader)"
   ]
  },
  {
   "cell_type": "markdown",
   "id": "a969a5c6",
   "metadata": {},
   "source": [
    "__Question:__ How many stars are in this dataset?"
   ]
  },
  {
   "cell_type": "code",
   "execution_count": null,
   "id": "d9dc3795",
   "metadata": {},
   "outputs": [],
   "source": [
    "#Answer:\n",
    "print('Answer: There are '+str(len(agedata))+' targets with ages')"
   ]
  },
  {
   "cell_type": "markdown",
   "id": "52c456bb",
   "metadata": {},
   "source": [
    "__Question:__ What type of stars are these?"
   ]
  },
  {
   "cell_type": "code",
   "execution_count": null,
   "id": "bc875402",
   "metadata": {},
   "outputs": [],
   "source": [
    "#code to make plot or print things"
   ]
  },
  {
   "cell_type": "markdown",
   "id": "ccc18c5b",
   "metadata": {},
   "source": [
    "__Answer:__"
   ]
  },
  {
   "cell_type": "markdown",
   "id": "1342925d",
   "metadata": {},
   "source": [
    "We have to match these stars to the stars with APOGEE data"
   ]
  },
  {
   "cell_type": "code",
   "execution_count": null,
   "id": "e8792244",
   "metadata": {},
   "outputs": [],
   "source": [
    "#Figure out which stars are in both lists and what their array elements are\n",
    "intersect, ind_a, ind_b = np.intersect1d(data_masked['APOGEE_ID'],agedata['APOGEE_ID'], return_indices=True)\n",
    "print(len(ind_b))"
   ]
  },
  {
   "cell_type": "markdown",
   "id": "a8bbde3c",
   "metadata": {},
   "source": [
    "__Question:__ How does the alpha element abundance of the stars with ages correlate with age?"
   ]
  },
  {
   "cell_type": "code",
   "execution_count": null,
   "id": "7b19242d",
   "metadata": {},
   "outputs": [],
   "source": [
    "#code to make a plot\n",
    "#remember to make sure you're plotting the same star for each x and y coordinate\n",
    "#you'll probably want something like\n",
    "#agedata['AGE_JT'][ind_b], data_masked['ALPHA_M'][ind_a]"
   ]
  },
  {
   "cell_type": "markdown",
   "id": "506eafbc",
   "metadata": {},
   "source": [
    "__Answer:__ describe the plot here"
   ]
  },
  {
   "cell_type": "markdown",
   "id": "d14613ca",
   "metadata": {},
   "source": [
    "__Question:__ How does the carbon-to-nitrogen ratio correlate with age? Do you agree with papers that have tried to use this as an age diagnostic?"
   ]
  },
  {
   "cell_type": "code",
   "execution_count": null,
   "id": "037d125f",
   "metadata": {},
   "outputs": [],
   "source": [
    "#code to make plot here. \n",
    "#Note that [C/N]= [C/Fe]-[N/Fe] because the square brackets mean that things have been log-ed \n"
   ]
  },
  {
   "cell_type": "markdown",
   "id": "65042ea2",
   "metadata": {},
   "source": [
    "__Answer:__"
   ]
  },
  {
   "cell_type": "markdown",
   "id": "37c1ef44",
   "metadata": {},
   "source": [
    "## Section 5- Machine Learning"
   ]
  },
  {
   "cell_type": "markdown",
   "id": "970a44d1",
   "metadata": {},
   "source": [
    "It's great that you have ages for 11,000 or so stars, but wouldn't it be better to have ages for a sizable fraction of the 700,000 stars in the full sample? We know from stellar evolution (and the plots that you've made) that the age of the star should be correlated with it's position on the HR diagram, temperature and surface gravity; its composition, metallicity and $\\alpha$ abundance; and its mass, which scales with the carbon and nitrogen at the surface for giants. So we should in theory be able to come up with some scheme that can learn these relationships. In this case the scheme we're going to use is a neural network. "
   ]
  },
  {
   "cell_type": "code",
   "execution_count": null,
   "id": "40738292",
   "metadata": {},
   "outputs": [],
   "source": [
    "#by default the machine learning stuff tries to use a GPU. \n",
    "#If you don't have a GPU (or want to use a CPU instead you need something like the following code)\n",
    "#You shouldn't need this on google colab\n",
    "\n",
    "import os\n",
    "os.environ['CUDA_VISIBLE_DEVICES'] = '-1'"
   ]
  },
  {
   "cell_type": "code",
   "execution_count": null,
   "id": "771f7791",
   "metadata": {},
   "outputs": [],
   "source": [
    "from tensorflow import keras"
   ]
  },
  {
   "cell_type": "markdown",
   "id": "6810c2eb",
   "metadata": {},
   "source": [
    "We are going set up a data structure that contains only the parameters we want to use for training the neural network. We also want to remove anything that has a NaN in it, and normalize things for simplicity."
   ]
  },
  {
   "cell_type": "code",
   "execution_count": null,
   "id": "e2344e3d",
   "metadata": {},
   "outputs": [],
   "source": [
    "fullx = np.dstack([data_masked['TEFF'][ind_a],data_masked['LOGG'][ind_a], data_masked['M_H'][ind_a],\n",
    "                   data_masked['C_FE'][ind_a], data_masked['N_FE'][ind_a]])[0]\n",
    "fully = np.dstack([agedata['AGE_JT'][ind_b]])[0]\n",
    "\n",
    "#remove non-finite entries!\n",
    "mask = np.all(np.isfinite(fullx), axis=1) & np.all(np.isfinite(fully), axis=1)\n",
    "fullx, fully = fullx[mask], fully[mask]\n",
    "\n",
    "scaling_x = np.median(fullx, axis=0)\n",
    "scaling_y = np.median(fully, axis=0)\n",
    "\n",
    "fullx, fully = fullx/scaling_x, fully/scaling_y"
   ]
  },
  {
   "cell_type": "markdown",
   "id": "5090f784",
   "metadata": {},
   "source": [
    "For the neural network I want everyone to choose a different number of nodes in each layer, a different number of layers, and a different number of training iterations."
   ]
  },
  {
   "cell_type": "code",
   "execution_count": null,
   "id": "876767f4",
   "metadata": {},
   "outputs": [],
   "source": [
    "#pick some numbers\n",
    "neurons_per_layer=12\n",
    "layers=3\n",
    "iterations=10"
   ]
  },
  {
   "cell_type": "markdown",
   "id": "a4c216a8",
   "metadata": {},
   "source": [
    "If you add or subtract layers, you have to do that manually"
   ]
  },
  {
   "cell_type": "code",
   "execution_count": null,
   "id": "75bab9e8",
   "metadata": {},
   "outputs": [],
   "source": [
    "\n",
    "#start with an input layer\n",
    "inputs = keras.Input(shape=(5,))\n",
    "#now we add the Dense layers (indicating the previous layer in the brackets following the layer declaration\n",
    "\n",
    "#change this part if you're changing the number of layers\n",
    "layer1 =keras.layers.Dense(neurons_per_layer, activation='relu')(inputs)\n",
    "layer2 = keras.layers.Dense(neurons_per_layer, activation='relu')(layer1)\n",
    "layer3 = keras.layers.Dense(neurons_per_layer, activation='relu')(layer2)\n",
    "#layer4 = keras.layers.Dense(neurons_per_layer, activation='relu')(layer3)\n",
    "#layer5 = keras.layers.Dense(neurons_per_layer, activation='relu')(layer4)\n",
    "#layer6 = keras.layers.Dense(neurons_per_layer, activation='relu')(layer5)\n",
    "#layer7 = keras.layers.Dense(neurons_per_layer, activation='relu')(layer6)\n",
    "#layer8 = keras.layers.Dense(neurons_per_layer, activation='relu')(layer7)\n",
    "#layer9 = keras.layers.Dense(neurons_per_layer, activation='relu')(layer8)\n",
    "#layer10 = keras.layers.Dense(neurons_per_layer, activation='relu')(layer9)\n",
    "#layer11 = keras.layers.Dense(neurons_per_layer, activation='relu')(layer10)\n",
    "#layer12 = keras.layers.Dense(neurons_per_layer, activation='relu')(layer11)\n",
    "#layer13 = keras.layers.Dense(neurons_per_layer, activation='relu')(layer12)\n",
    "#layer14 = keras.layers.Dense(neurons_per_layer, activation='relu')(layer13)\n",
    "#layer15 = keras.layers.Dense(neurons_per_layer, activation='relu')(layer14)\n",
    "#layer16 = keras.layers.Dense(neurons_per_layer, activation='relu')(layer15)\n",
    "#layer17 = keras.layers.Dense(neurons_per_layer, activation='relu')(layer16)\n",
    "#layer18 = keras.layers.Dense(neurons_per_layer, activation='relu')(layer17)\n",
    "#layer19 = keras.layers.Dense(neurons_per_layer, activation='relu')(layer18)\n",
    "#layer20 = keras.layers.Dense(neurons_per_layer, activation='relu')(layer19)\n",
    "#layer21 = keras.layers.Dense(neurons_per_layer, activation='relu')(layer20)\n",
    "#layer22 = keras.layers.Dense(neurons_per_layer, activation='relu')(layer21)\n",
    "#layer23 = keras.layers.Dense(neurons_per_layer, activation='relu')(layer22)\n",
    "\n",
    "#then the output layer\n",
    "outputs = keras.layers.Dense(1)(layer3)\n",
    "\n",
    "\n",
    "# then we put that all together in the Model object\n",
    "model = keras.Model(inputs=inputs, outputs=outputs, name='test')\n",
    "#and we can print a summary to check it all went to plan\n",
    "model.summary()"
   ]
  },
  {
   "cell_type": "code",
   "execution_count": null,
   "id": "21550983",
   "metadata": {},
   "outputs": [],
   "source": [
    "\n",
    "model.compile(loss=keras.losses.MeanSquaredError(), optimizer=keras.optimizers.Adam(), metrics=['accuracy'])"
   ]
  },
  {
   "cell_type": "markdown",
   "id": "60f42af5",
   "metadata": {},
   "source": [
    "When you train a machine learning model, you always want to leave out a testing set, a set of stars where you know what the correct answer, but the neural network hasn't seen, so that you can test its response.\n",
    "\n",
    "If your last name is starts with a letter before earlier in the alphabet than M, leave the last 2000 stars out of the training. If your last name starts with M or later, leave the first 2000 stars out of the training. "
   ]
  },
  {
   "cell_type": "code",
   "execution_count": null,
   "id": "8386751a",
   "metadata": {},
   "outputs": [],
   "source": [
    "#last name before M \n",
    "trainbin=slice(0,-2002)\n",
    "testing=slice(-2001,-1)\n",
    "\n",
    "\n",
    "#last name M or later\n",
    "#trainbin=slice(2001,-1)\n",
    "#testing=slice(0,2000)\n",
    "\n",
    "\n",
    "x_train, y_train = fullx[trainbin], fully[trainbin]\n",
    "x_test, y_test = fullx[testing], fully[testing]"
   ]
  },
  {
   "cell_type": "markdown",
   "id": "19abb5ca",
   "metadata": {},
   "source": [
    "Okay now train the neural network"
   ]
  },
  {
   "cell_type": "code",
   "execution_count": null,
   "id": "ed24041c",
   "metadata": {},
   "outputs": [],
   "source": [
    "model.fit(x_train, y_train, epochs=iterations, validation_split=0.05, batch_size=300)"
   ]
  },
  {
   "cell_type": "markdown",
   "id": "9c128f2f",
   "metadata": {},
   "source": [
    "Now that you have trained the neural network, use it to predict what the ages of the stars in the testing set should be."
   ]
  },
  {
   "cell_type": "code",
   "execution_count": null,
   "id": "7799466a",
   "metadata": {},
   "outputs": [],
   "source": [
    "predictions = model.predict(x_test)\n",
    "print(len(predictions))"
   ]
  },
  {
   "cell_type": "markdown",
   "id": "91f784c4",
   "metadata": {},
   "source": [
    "How well did your neural network do? Let's plot and print things! The metric we're going to use is whether the neural network predicted age is within 30% of the correct answer or not."
   ]
  },
  {
   "cell_type": "code",
   "execution_count": null,
   "id": "f46d58fa",
   "metadata": {},
   "outputs": [],
   "source": [
    "metric=0.3 #is the accuracy better than 30%?\n",
    "goodfit=np.where(((1-metric) < predictions/y_test) & ((1+metric) > predictions/y_test)) \n",
    "badfit=np.where(((1-metric) > predictions/y_test) | ((1+metric) < predictions/y_test))\n",
    "\n",
    "print ('With ', neurons_per_layer, 'neurons per layer, ', layers, 'layers, and ', iterations, 'iterations')\n",
    "print ('using the training set', trainbin)\n",
    "print (len(goodfit[0])/len(y_test)*100, 'percent of the ages are good')\n",
    "print (len(badfit[0])/len(y_test)*100, 'percent of the ages are bad')"
   ]
  },
  {
   "cell_type": "code",
   "execution_count": null,
   "id": "4c38d26c",
   "metadata": {},
   "outputs": [],
   "source": [
    "#remember that we scaled our input/output\n",
    "plt.scatter( (y_test*scaling_y),(predictions*scaling_y), s=1.)\n",
    "plt.scatter( (y_test[goodfit]*scaling_y),(predictions[goodfit]*scaling_y), s=1.)\n",
    "plt.xlim(0.,14.)\n",
    "plt.plot([0.,14.], [0.,14.])\n",
    "plt.plot([14,0,14], [14*(1-metric), 0, 14*(1+metric)])\n",
    "\n",
    "plt.ylabel(r'Predicted age [Gyr]')\n",
    "plt.xlabel(r'Seismic Age [Gyr]')\n",
    "plt.ylim(0,14)\n",
    "#ax[1].scatter(predictions[:,0]*scaling_y[0], fully[-600:,0]*scaling_y[0], s=1.)\n",
    "#ax[1].plot([0.5,3.5], [0.5,3.5])\n",
    "#ax[1].set_xlabel(r'predicted mass $\\mathrm{[M_\\odot]}$')\n",
    "#ax[1].set_ylabel(r'APOKASC-2 mass $\\mathrm{[M_\\odot]}$')"
   ]
  },
  {
   "cell_type": "markdown",
   "id": "f48132d7",
   "metadata": {},
   "source": [
    "__Question:__ How satisfied are you with the performance of your neural network? How does it compare to the direct [C/N]-age relation you plotted above?"
   ]
  },
  {
   "cell_type": "markdown",
   "id": "a3df10e7",
   "metadata": {},
   "source": [
    "__Answer:__"
   ]
  },
  {
   "cell_type": "markdown",
   "id": "90cdb406",
   "metadata": {},
   "source": [
    "Now that you have a sense of how well your neural network is doing, forge ahead and predict ages for the whole data sample!"
   ]
  },
  {
   "cell_type": "code",
   "execution_count": null,
   "id": "6b005ce3",
   "metadata": {},
   "outputs": [],
   "source": [
    "DR17x = np.dstack([data_masked['TEFF'],data_masked['LOGG'], data_masked['M_H'],\n",
    "                   data_masked['C_FE'], data_masked['N_FE']])[0]\n",
    "print(len(data_masked['TEFF']))\n",
    "\n",
    "DR17x= DR17x/scaling_x\n",
    "predictionsDR17 = model.predict(DR17x)"
   ]
  },
  {
   "cell_type": "markdown",
   "id": "a8e7a09e",
   "metadata": {},
   "source": [
    "When making inferences from machine learning, you should always be careful about extrapolating outside the reach of your training data. Make at least one cut to the dataset to make your full sample more consistent with your training sample. "
   ]
  },
  {
   "cell_type": "code",
   "execution_count": null,
   "id": "6be95328",
   "metadata": {},
   "outputs": [],
   "source": [
    "# code to define a good sample\n",
    "#I used np.where for this\n",
    "#good=np.where()"
   ]
  },
  {
   "cell_type": "markdown",
   "id": "d2051f6c",
   "metadata": {},
   "source": [
    "__Question:__ What cut did you make and why?"
   ]
  },
  {
   "cell_type": "markdown",
   "id": "7bcb240a",
   "metadata": {},
   "source": [
    "__Answer:__"
   ]
  },
  {
   "cell_type": "code",
   "execution_count": null,
   "id": "659c9579",
   "metadata": {},
   "outputs": [],
   "source": [
    "plt.scatter( R[good]/1000,z[good]/1000,c=predictionsDR17[good]*scaling_y,vmin=0,vmax=15,s=0.01)\n",
    "plt.colorbar(label='Predicted Age [Gyr]')\n",
    "plt.ylabel(r'Galactic Height [kpc]')\n",
    "plt.xlabel(r'Galactocentric Radius [kpc]')\n",
    "#plt.ylim(-5,5)\n",
    "#plt.xlim(0,10)"
   ]
  },
  {
   "cell_type": "markdown",
   "id": "20e64af2",
   "metadata": {},
   "source": [
    "__Question:__ Describe your age map of the galaxy. How does it compare to other age maps of the galaxy? In what ways do you think it is better? In what ways is it less good?"
   ]
  },
  {
   "cell_type": "markdown",
   "id": "3f64573b",
   "metadata": {},
   "source": [
    "__Answer:__"
   ]
  },
  {
   "cell_type": "markdown",
   "id": "100bc0e6",
   "metadata": {},
   "source": [
    "## Section 6- Extension"
   ]
  },
  {
   "cell_type": "markdown",
   "id": "98a9e552",
   "metadata": {},
   "source": [
    "When you turned in your summary of the Hayden et al. 2015 paper, you described \"5. Given the results of this study, what study would you want to do next with a dataset like this?\" Write a summarized version of that question in the question section below, make the appropriate plots to attempt it, and describe the answer you found below. Were you able to answer it with this improved data set? If not, why not?"
   ]
  },
  {
   "cell_type": "markdown",
   "id": "04120a23",
   "metadata": {},
   "source": [
    "__Question:__"
   ]
  },
  {
   "cell_type": "code",
   "execution_count": null,
   "id": "de00da24",
   "metadata": {},
   "outputs": [],
   "source": [
    "# code to manipulate data?\n",
    "# code to make plots? \n"
   ]
  },
  {
   "cell_type": "markdown",
   "id": "d426116b",
   "metadata": {},
   "source": [
    "__Answer:__"
   ]
  },
  {
   "cell_type": "code",
   "execution_count": null,
   "id": "4247f93f",
   "metadata": {},
   "outputs": [],
   "source": []
  },
  {
   "cell_type": "code",
   "execution_count": null,
   "id": "0f7f7e56",
   "metadata": {},
   "outputs": [],
   "source": []
  }
 ],
 "metadata": {
  "kernelspec": {
   "display_name": "AST4300",
   "language": "python",
   "name": "ast4300"
  },
  "language_info": {
   "codemirror_mode": {
    "name": "ipython",
    "version": 3
   },
   "file_extension": ".py",
   "mimetype": "text/x-python",
   "name": "python",
   "nbconvert_exporter": "python",
   "pygments_lexer": "ipython3",
   "version": "3.9.7"
  }
 },
 "nbformat": 4,
 "nbformat_minor": 5
}
